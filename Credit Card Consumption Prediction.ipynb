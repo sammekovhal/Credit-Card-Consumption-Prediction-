{
 "cells": [
  {
   "cell_type": "markdown",
   "metadata": {},
   "source": [
    "# Modules & Data Loading"
   ]
  },
  {
   "cell_type": "code",
   "execution_count": 1,
   "metadata": {},
   "outputs": [],
   "source": [
    "import pandas as pd\n",
    "import numpy as np\n",
    "from matplotlib import pyplot as plt\n",
    "import seaborn as sns\n",
    "from sklearn.model_selection import train_test_split\n",
    "from sklearn.preprocessing import Imputer,LabelEncoder\n",
    "from sklearn.metrics import roc_auc_score,accuracy_score,classification_report,roc_curve,confusion_matrix\n",
    "import sklearn"
   ]
  },
  {
   "cell_type": "code",
   "execution_count": 2,
   "metadata": {},
   "outputs": [],
   "source": [
    "file_path = 'file/Train.csv'\n",
    "train_data = pd.read_csv(file_path)\n",
    "#train_data_str = pd.read_csv(file_path,dtype=str)"
   ]
  },
  {
   "cell_type": "code",
   "execution_count": 3,
   "metadata": {
    "scrolled": true
   },
   "outputs": [
    {
     "data": {
      "text/plain": [
       "40"
      ]
     },
     "execution_count": 3,
     "metadata": {},
     "output_type": "execute_result"
    }
   ],
   "source": [
    "len(list(train_data.columns))"
   ]
  },
  {
   "cell_type": "code",
   "execution_count": 4,
   "metadata": {},
   "outputs": [],
   "source": [
    "test_data = pd.read_csv('file/Test.csv')"
   ]
  },
  {
   "cell_type": "code",
   "execution_count": 5,
   "metadata": {},
   "outputs": [
    {
     "data": {
      "text/plain": [
       "Index(['ID', 'account_type', 'gender', 'age', 'region_code', 'dc_cons_apr',\n",
       "       'dc_cons_may', 'dc_cons_jun', 'cc_count_apr', 'cc_count_may',\n",
       "       'cc_count_jun', 'dc_count_apr', 'dc_count_may', 'dc_count_jun',\n",
       "       'card_lim', 'personal_loan_active', 'vehicle_loan_active',\n",
       "       'personal_loan_closed', 'vehicle_loan_closed', 'investment_1',\n",
       "       'investment_2', 'investment_3', 'investment_4', 'debit_amount_apr',\n",
       "       'credit_amount_apr', 'debit_count_apr', 'credit_count_apr',\n",
       "       'max_credit_amount_apr', 'debit_amount_may', 'credit_amount_may',\n",
       "       'credit_count_may', 'debit_count_may', 'max_credit_amount_may',\n",
       "       'debit_amount_jun', 'credit_amount_jun', 'credit_count_jun',\n",
       "       'debit_count_jun', 'max_credit_amount_jun', 'loan_enq', 'cc_cons'],\n",
       "      dtype='object')"
      ]
     },
     "execution_count": 5,
     "metadata": {},
     "output_type": "execute_result"
    }
   ],
   "source": [
    "train_data.columns"
   ]
  },
  {
   "cell_type": "code",
   "execution_count": 6,
   "metadata": {
    "scrolled": true
   },
   "outputs": [
    {
     "data": {
      "text/plain": [
       "Index(['ID', 'account_type', 'gender', 'age', 'region_code', 'dc_cons_apr',\n",
       "       'dc_cons_may', 'dc_cons_jun', 'cc_count_apr', 'cc_count_may',\n",
       "       'cc_count_jun', 'dc_count_apr', 'dc_count_may', 'dc_count_jun',\n",
       "       'card_lim', 'personal_loan_active', 'vehicle_loan_active',\n",
       "       'personal_loan_closed', 'vehicle_loan_closed', 'investment_1',\n",
       "       'investment_2', 'investment_3', 'investment_4', 'debit_amount_apr',\n",
       "       'credit_amount_apr', 'debit_count_apr', 'credit_count_apr',\n",
       "       'max_credit_amount_apr', 'debit_amount_may', 'credit_amount_may',\n",
       "       'credit_count_may', 'debit_count_may', 'max_credit_amount_may',\n",
       "       'debit_amount_jun', 'credit_amount_jun', 'credit_count_jun',\n",
       "       'debit_count_jun', 'max_credit_amount_jun', 'loan_enq'],\n",
       "      dtype='object')"
      ]
     },
     "execution_count": 6,
     "metadata": {},
     "output_type": "execute_result"
    }
   ],
   "source": [
    "test_data.columns"
   ]
  },
  {
   "cell_type": "code",
   "execution_count": 7,
   "metadata": {
    "scrolled": true
   },
   "outputs": [
    {
     "data": {
      "text/html": [
       "<div>\n",
       "<style scoped>\n",
       "    .dataframe tbody tr th:only-of-type {\n",
       "        vertical-align: middle;\n",
       "    }\n",
       "\n",
       "    .dataframe tbody tr th {\n",
       "        vertical-align: top;\n",
       "    }\n",
       "\n",
       "    .dataframe thead th {\n",
       "        text-align: right;\n",
       "    }\n",
       "</style>\n",
       "<table border=\"1\" class=\"dataframe\">\n",
       "  <thead>\n",
       "    <tr style=\"text-align: right;\">\n",
       "      <th></th>\n",
       "      <th>ID</th>\n",
       "      <th>account_type</th>\n",
       "      <th>gender</th>\n",
       "      <th>age</th>\n",
       "      <th>region_code</th>\n",
       "      <th>dc_cons_apr</th>\n",
       "      <th>dc_cons_may</th>\n",
       "      <th>dc_cons_jun</th>\n",
       "      <th>cc_count_apr</th>\n",
       "      <th>cc_count_may</th>\n",
       "      <th>...</th>\n",
       "      <th>credit_count_may</th>\n",
       "      <th>debit_count_may</th>\n",
       "      <th>max_credit_amount_may</th>\n",
       "      <th>debit_amount_jun</th>\n",
       "      <th>credit_amount_jun</th>\n",
       "      <th>credit_count_jun</th>\n",
       "      <th>debit_count_jun</th>\n",
       "      <th>max_credit_amount_jun</th>\n",
       "      <th>loan_enq</th>\n",
       "      <th>cc_cons</th>\n",
       "    </tr>\n",
       "  </thead>\n",
       "  <tbody>\n",
       "    <tr>\n",
       "      <td>0</td>\n",
       "      <td>12554</td>\n",
       "      <td>saving</td>\n",
       "      <td>F</td>\n",
       "      <td>36</td>\n",
       "      <td>336.0</td>\n",
       "      <td>10740.542453</td>\n",
       "      <td>26271.575951</td>\n",
       "      <td>12332.393444</td>\n",
       "      <td>4.0</td>\n",
       "      <td>6.0</td>\n",
       "      <td>...</td>\n",
       "      <td>2.0</td>\n",
       "      <td>1.0</td>\n",
       "      <td>110403.214364</td>\n",
       "      <td>1.114847e+06</td>\n",
       "      <td>6.868706e+05</td>\n",
       "      <td>2.0</td>\n",
       "      <td>1.0</td>\n",
       "      <td>161824.467583</td>\n",
       "      <td>NaN</td>\n",
       "      <td>1946.0</td>\n",
       "    </tr>\n",
       "    <tr>\n",
       "      <td>1</td>\n",
       "      <td>17645</td>\n",
       "      <td>current</td>\n",
       "      <td>M</td>\n",
       "      <td>24</td>\n",
       "      <td>529.0</td>\n",
       "      <td>15400.274698</td>\n",
       "      <td>16346.513708</td>\n",
       "      <td>13308.843760</td>\n",
       "      <td>14.0</td>\n",
       "      <td>10.0</td>\n",
       "      <td>...</td>\n",
       "      <td>2.0</td>\n",
       "      <td>17.0</td>\n",
       "      <td>336653.547124</td>\n",
       "      <td>4.010666e+05</td>\n",
       "      <td>2.368395e+05</td>\n",
       "      <td>10.0</td>\n",
       "      <td>31.0</td>\n",
       "      <td>530033.850635</td>\n",
       "      <td>NaN</td>\n",
       "      <td>66784.0</td>\n",
       "    </tr>\n",
       "    <tr>\n",
       "      <td>2</td>\n",
       "      <td>7604</td>\n",
       "      <td>current</td>\n",
       "      <td>M</td>\n",
       "      <td>34</td>\n",
       "      <td>541.0</td>\n",
       "      <td>NaN</td>\n",
       "      <td>16616.791206</td>\n",
       "      <td>8165.060330</td>\n",
       "      <td>19.0</td>\n",
       "      <td>8.0</td>\n",
       "      <td>...</td>\n",
       "      <td>4.0</td>\n",
       "      <td>22.0</td>\n",
       "      <td>359000.879855</td>\n",
       "      <td>8.944534e+05</td>\n",
       "      <td>1.896231e+06</td>\n",
       "      <td>5.0</td>\n",
       "      <td>24.0</td>\n",
       "      <td>481495.648386</td>\n",
       "      <td>Y</td>\n",
       "      <td>14469.0</td>\n",
       "    </tr>\n",
       "    <tr>\n",
       "      <td>3</td>\n",
       "      <td>1590</td>\n",
       "      <td>current</td>\n",
       "      <td>M</td>\n",
       "      <td>39</td>\n",
       "      <td>523.0</td>\n",
       "      <td>15962.461007</td>\n",
       "      <td>17848.552395</td>\n",
       "      <td>28502.691521</td>\n",
       "      <td>NaN</td>\n",
       "      <td>1.0</td>\n",
       "      <td>...</td>\n",
       "      <td>6.0</td>\n",
       "      <td>39.0</td>\n",
       "      <td>217724.536892</td>\n",
       "      <td>1.772801e+06</td>\n",
       "      <td>1.276362e+06</td>\n",
       "      <td>7.0</td>\n",
       "      <td>37.0</td>\n",
       "      <td>536714.940949</td>\n",
       "      <td>NaN</td>\n",
       "      <td>6494.0</td>\n",
       "    </tr>\n",
       "    <tr>\n",
       "      <td>4</td>\n",
       "      <td>16556</td>\n",
       "      <td>current</td>\n",
       "      <td>M</td>\n",
       "      <td>28</td>\n",
       "      <td>239.0</td>\n",
       "      <td>NaN</td>\n",
       "      <td>35661.995527</td>\n",
       "      <td>13474.223363</td>\n",
       "      <td>23.0</td>\n",
       "      <td>14.0</td>\n",
       "      <td>...</td>\n",
       "      <td>4.0</td>\n",
       "      <td>15.0</td>\n",
       "      <td>519029.306872</td>\n",
       "      <td>8.525740e+05</td>\n",
       "      <td>6.110580e+05</td>\n",
       "      <td>3.0</td>\n",
       "      <td>26.0</td>\n",
       "      <td>349316.588945</td>\n",
       "      <td>NaN</td>\n",
       "      <td>14588.0</td>\n",
       "    </tr>\n",
       "  </tbody>\n",
       "</table>\n",
       "<p>5 rows × 40 columns</p>\n",
       "</div>"
      ],
      "text/plain": [
       "      ID account_type gender  age  region_code   dc_cons_apr   dc_cons_may  \\\n",
       "0  12554       saving      F   36        336.0  10740.542453  26271.575951   \n",
       "1  17645      current      M   24        529.0  15400.274698  16346.513708   \n",
       "2   7604      current      M   34        541.0           NaN  16616.791206   \n",
       "3   1590      current      M   39        523.0  15962.461007  17848.552395   \n",
       "4  16556      current      M   28        239.0           NaN  35661.995527   \n",
       "\n",
       "    dc_cons_jun  cc_count_apr  cc_count_may  ...  credit_count_may  \\\n",
       "0  12332.393444           4.0           6.0  ...               2.0   \n",
       "1  13308.843760          14.0          10.0  ...               2.0   \n",
       "2   8165.060330          19.0           8.0  ...               4.0   \n",
       "3  28502.691521           NaN           1.0  ...               6.0   \n",
       "4  13474.223363          23.0          14.0  ...               4.0   \n",
       "\n",
       "   debit_count_may  max_credit_amount_may  debit_amount_jun  \\\n",
       "0              1.0          110403.214364      1.114847e+06   \n",
       "1             17.0          336653.547124      4.010666e+05   \n",
       "2             22.0          359000.879855      8.944534e+05   \n",
       "3             39.0          217724.536892      1.772801e+06   \n",
       "4             15.0          519029.306872      8.525740e+05   \n",
       "\n",
       "   credit_amount_jun  credit_count_jun  debit_count_jun  \\\n",
       "0       6.868706e+05               2.0              1.0   \n",
       "1       2.368395e+05              10.0             31.0   \n",
       "2       1.896231e+06               5.0             24.0   \n",
       "3       1.276362e+06               7.0             37.0   \n",
       "4       6.110580e+05               3.0             26.0   \n",
       "\n",
       "   max_credit_amount_jun  loan_enq  cc_cons  \n",
       "0          161824.467583       NaN   1946.0  \n",
       "1          530033.850635       NaN  66784.0  \n",
       "2          481495.648386         Y  14469.0  \n",
       "3          536714.940949       NaN   6494.0  \n",
       "4          349316.588945       NaN  14588.0  \n",
       "\n",
       "[5 rows x 40 columns]"
      ]
     },
     "execution_count": 7,
     "metadata": {},
     "output_type": "execute_result"
    }
   ],
   "source": [
    "train_data.head()"
   ]
  },
  {
   "cell_type": "markdown",
   "metadata": {},
   "source": [
    "# EDA & Features"
   ]
  },
  {
   "cell_type": "code",
   "execution_count": 8,
   "metadata": {},
   "outputs": [
    {
     "data": {
      "image/png": "[encoded data removed]",
      "text/plain": [
       "<Figure size 2520x1800 with 3 Axes>"
      ]
     },
     "metadata": {
      "needs_background": "light"
     },
     "output_type": "display_data"
    }
   ],
   "source": [
    "fig = plt.figure(figsize=(35, 25))\n",
    "cols = 5\n",
    "rows = np.ceil(float(train_data.shape[1]) / cols)\n",
    "for i, column in enumerate(train_data.columns):\n",
    "    if column in ('gender','age','account_type'):\n",
    "        ax = fig.add_subplot(rows, cols, i + 1)\n",
    "        ax.set_title(column)\n",
    "        if  train_data.dtypes[column] == np.object:\n",
    "            train_data[column].value_counts().plot(kind=\"bar\", axes=ax)\n",
    "        else:\n",
    "            train_data[column].hist(axes=ax)\n",
    "            plt.xticks(rotation=\"vertical\")\n",
    "plt.subplots_adjust(hspace=0.7, wspace=0.2)"
   ]
  },
  {
   "cell_type": "code",
   "execution_count": 9,
   "metadata": {},
   "outputs": [
    {
     "data": {
      "text/plain": [
       "age                      0.019747\n",
       "region_code             -0.002154\n",
       "dc_cons_apr             -0.005581\n",
       "dc_cons_may             -0.018028\n",
       "dc_cons_jun             -0.005228\n",
       "cc_count_apr             0.089222\n",
       "cc_count_may             0.097509\n",
       "cc_count_jun             0.048667\n",
       "dc_count_apr             0.006567\n",
       "dc_count_may             0.002527\n",
       "dc_count_jun            -0.012198\n",
       "card_lim                 0.018369\n",
       "personal_loan_active          NaN\n",
       "vehicle_loan_active           NaN\n",
       "personal_loan_closed          NaN\n",
       "vehicle_loan_closed           NaN\n",
       "investment_1            -0.003954\n",
       "investment_2             0.082969\n",
       "investment_3             0.022568\n",
       "investment_4            -0.015212\n",
       "debit_amount_apr         0.021145\n",
       "credit_amount_apr       -0.000695\n",
       "debit_count_apr         -0.003940\n",
       "credit_count_apr         0.000264\n",
       "max_credit_amount_apr    0.013300\n",
       "debit_amount_may         0.008779\n",
       "credit_amount_may        0.001150\n",
       "credit_count_may        -0.005938\n",
       "debit_count_may         -0.009342\n",
       "max_credit_amount_may   -0.007911\n",
       "debit_amount_jun         0.008703\n",
       "credit_amount_jun       -0.004454\n",
       "credit_count_jun        -0.004103\n",
       "debit_count_jun         -0.018024\n",
       "max_credit_amount_jun    0.004089\n",
       "cc_cons                  1.000000\n",
       "Name: cc_cons, dtype: float64"
      ]
     },
     "execution_count": 9,
     "metadata": {},
     "output_type": "execute_result"
    }
   ],
   "source": [
    "train_col_list = train_data.dtypes\n",
    "train_data[train_data.columns[1:]].corr()['cc_cons'][:]"
   ]
  },
  {
   "cell_type": "code",
   "execution_count": 10,
   "metadata": {},
   "outputs": [
    {
     "data": {
      "text/plain": [
       "<matplotlib.axes._subplots.AxesSubplot at 0x7f7326c47550>"
      ]
     },
     "execution_count": 10,
     "metadata": {},
     "output_type": "execute_result"
    },
    {
     "data": {
      "image/png": "[encoded data removed]",
      "text/plain": [
       "<Figure size 432x288 with 1 Axes>"
      ]
     },
     "metadata": {
      "needs_background": "light"
     },
     "output_type": "display_data"
    }
   ],
   "source": [
    "sns.heatmap(train_data.isnull(),yticklabels=False,cbar=False)"
   ]
  },
  {
   "cell_type": "code",
   "execution_count": 11,
   "metadata": {
    "scrolled": true
   },
   "outputs": [],
   "source": [
    "filna_values = {'dc_cons_apr':0\n",
    "                ,'dc_cons_may':0\n",
    "                ,'dc_cons_jun':0\n",
    "                ,'cc_count_apr':0\n",
    "                ,'cc_count_may':0\n",
    "                ,'cc_count_jun':0\n",
    "                ,'dc_count_apr':0\n",
    "                ,'dc_count_may':0\n",
    "                ,'dc_count_jun':0\n",
    "                ,'cc_count_apr':0\n",
    "                ,'cc_count_may':0\n",
    "                ,'credit_count_may':0\n",
    "                ,'debit_count_may':0\n",
    "                ,'max_credit_amount_may':0\n",
    "                ,'debit_amount_jun':0\n",
    "                ,'credit_amount_jun':0\n",
    "                ,'credit_count_jun':0\n",
    "                ,'debit_count_jun':0\n",
    "                ,'max_credit_amount_jun':0\n",
    "                ,'debit_amount_apr':0\n",
    "                ,'debit_count_apr':0\n",
    "                ,'credit_count_apr':0\n",
    "                ,'debit_amount_may ':0\n",
    "                ,'credit_amount_may':0\n",
    "                ,'max_credit_amount_apr':0\n",
    "                ,'credit_amount_apr':0\n",
    "                ,'debit_amount_may':0\n",
    "               }\n",
    "\n",
    "train_data.fillna(value=filna_values,inplace=True)\n",
    "test_data.fillna(value=filna_values,inplace=True)"
   ]
  },
  {
   "cell_type": "markdown",
   "metadata": {
    "tags": [
     "Comment"
    ]
   },
   "source": [
    "### Age Validatation & Converting Age to Ranges"
   ]
  },
  {
   "cell_type": "code",
   "execution_count": 12,
   "metadata": {},
   "outputs": [],
   "source": [
    "def age_valid(x):\n",
    "    if x>100:\n",
    "        x=int(str(x)[1:])\n",
    "    return x\n",
    "\n",
    "def age_range(x, base=5):\n",
    "    if x>10 and x<=20:\n",
    "        x_range = '11-20'\n",
    "    elif x>20 and x<=30:\n",
    "        x_range = '21-30'\n",
    "    elif x>30 and x<=40:\n",
    "        x_range = '31-40'\n",
    "    elif x>40 and x<=50:\n",
    "        x_range = '41-50'\n",
    "    elif x>50 and x<=60:\n",
    "        x_range = '51-60'\n",
    "    elif x>60 and x<=70:\n",
    "        x_range = '61-70'\n",
    "    elif x>70 and x<=80:\n",
    "        x_range = '71-80'\n",
    "    elif x>80 and x<=90:\n",
    "        x_range = '81-90'\n",
    "    elif x>90 and x<=100:\n",
    "        x_range = '91-100'\n",
    "    return x_range\n",
    "train_data['age'] = train_data['age'].apply(age_valid)\n",
    "train_data['age_range'] = train_data['age'].apply(age_range)\n",
    "test_data['age'] = test_data['age'].apply(age_valid)\n",
    "test_data['age_range'] = test_data['age'].apply(age_range)"
   ]
  },
  {
   "cell_type": "code",
   "execution_count": 13,
   "metadata": {},
   "outputs": [],
   "source": [
    "#train_data['card_lim'].fillna(np.median(train_data['card_lim']),inplace=True)\n",
    "#test_data['card_lim'].fillna(np.median(train_data['card_lim']),inplace=True)"
   ]
  },
  {
   "cell_type": "code",
   "execution_count": 14,
   "metadata": {},
   "outputs": [],
   "source": [
    "#train_data.drop(['investment_4','vehicle_loan_active','investment_3','investment_1','vehicle_loan_closed','investment_2','personal_loan_closed','personal_loan_active','loan_enq','age'], axis=1,inplace=True)"
   ]
  },
  {
   "cell_type": "code",
   "execution_count": 15,
   "metadata": {},
   "outputs": [
    {
     "data": {
      "text/html": [
       "<div>\n",
       "<style scoped>\n",
       "    .dataframe tbody tr th:only-of-type {\n",
       "        vertical-align: middle;\n",
       "    }\n",
       "\n",
       "    .dataframe tbody tr th {\n",
       "        vertical-align: top;\n",
       "    }\n",
       "\n",
       "    .dataframe thead th {\n",
       "        text-align: right;\n",
       "    }\n",
       "</style>\n",
       "<table border=\"1\" class=\"dataframe\">\n",
       "  <thead>\n",
       "    <tr style=\"text-align: right;\">\n",
       "      <th></th>\n",
       "      <th>ID</th>\n",
       "      <th>account_type</th>\n",
       "      <th>gender</th>\n",
       "      <th>age</th>\n",
       "      <th>region_code</th>\n",
       "      <th>dc_cons_apr</th>\n",
       "      <th>dc_cons_may</th>\n",
       "      <th>dc_cons_jun</th>\n",
       "      <th>cc_count_apr</th>\n",
       "      <th>cc_count_may</th>\n",
       "      <th>...</th>\n",
       "      <th>debit_count_may</th>\n",
       "      <th>max_credit_amount_may</th>\n",
       "      <th>debit_amount_jun</th>\n",
       "      <th>credit_amount_jun</th>\n",
       "      <th>credit_count_jun</th>\n",
       "      <th>debit_count_jun</th>\n",
       "      <th>max_credit_amount_jun</th>\n",
       "      <th>loan_enq</th>\n",
       "      <th>cc_cons</th>\n",
       "      <th>age_range</th>\n",
       "    </tr>\n",
       "  </thead>\n",
       "  <tbody>\n",
       "    <tr>\n",
       "      <td>0</td>\n",
       "      <td>12554</td>\n",
       "      <td>saving</td>\n",
       "      <td>F</td>\n",
       "      <td>36</td>\n",
       "      <td>336.0</td>\n",
       "      <td>10740.542453</td>\n",
       "      <td>26271.575951</td>\n",
       "      <td>12332.393444</td>\n",
       "      <td>4.0</td>\n",
       "      <td>6.0</td>\n",
       "      <td>...</td>\n",
       "      <td>1.0</td>\n",
       "      <td>110403.214364</td>\n",
       "      <td>1.114847e+06</td>\n",
       "      <td>6.868706e+05</td>\n",
       "      <td>2.0</td>\n",
       "      <td>1.0</td>\n",
       "      <td>161824.467583</td>\n",
       "      <td>NaN</td>\n",
       "      <td>1946.0</td>\n",
       "      <td>31-40</td>\n",
       "    </tr>\n",
       "    <tr>\n",
       "      <td>1</td>\n",
       "      <td>17645</td>\n",
       "      <td>current</td>\n",
       "      <td>M</td>\n",
       "      <td>24</td>\n",
       "      <td>529.0</td>\n",
       "      <td>15400.274698</td>\n",
       "      <td>16346.513708</td>\n",
       "      <td>13308.843760</td>\n",
       "      <td>14.0</td>\n",
       "      <td>10.0</td>\n",
       "      <td>...</td>\n",
       "      <td>17.0</td>\n",
       "      <td>336653.547124</td>\n",
       "      <td>4.010666e+05</td>\n",
       "      <td>2.368395e+05</td>\n",
       "      <td>10.0</td>\n",
       "      <td>31.0</td>\n",
       "      <td>530033.850635</td>\n",
       "      <td>NaN</td>\n",
       "      <td>66784.0</td>\n",
       "      <td>21-30</td>\n",
       "    </tr>\n",
       "    <tr>\n",
       "      <td>2</td>\n",
       "      <td>7604</td>\n",
       "      <td>current</td>\n",
       "      <td>M</td>\n",
       "      <td>34</td>\n",
       "      <td>541.0</td>\n",
       "      <td>0.000000</td>\n",
       "      <td>16616.791206</td>\n",
       "      <td>8165.060330</td>\n",
       "      <td>19.0</td>\n",
       "      <td>8.0</td>\n",
       "      <td>...</td>\n",
       "      <td>22.0</td>\n",
       "      <td>359000.879855</td>\n",
       "      <td>8.944534e+05</td>\n",
       "      <td>1.896231e+06</td>\n",
       "      <td>5.0</td>\n",
       "      <td>24.0</td>\n",
       "      <td>481495.648386</td>\n",
       "      <td>Y</td>\n",
       "      <td>14469.0</td>\n",
       "      <td>31-40</td>\n",
       "    </tr>\n",
       "    <tr>\n",
       "      <td>3</td>\n",
       "      <td>1590</td>\n",
       "      <td>current</td>\n",
       "      <td>M</td>\n",
       "      <td>39</td>\n",
       "      <td>523.0</td>\n",
       "      <td>15962.461007</td>\n",
       "      <td>17848.552395</td>\n",
       "      <td>28502.691521</td>\n",
       "      <td>0.0</td>\n",
       "      <td>1.0</td>\n",
       "      <td>...</td>\n",
       "      <td>39.0</td>\n",
       "      <td>217724.536892</td>\n",
       "      <td>1.772801e+06</td>\n",
       "      <td>1.276362e+06</td>\n",
       "      <td>7.0</td>\n",
       "      <td>37.0</td>\n",
       "      <td>536714.940949</td>\n",
       "      <td>NaN</td>\n",
       "      <td>6494.0</td>\n",
       "      <td>31-40</td>\n",
       "    </tr>\n",
       "    <tr>\n",
       "      <td>4</td>\n",
       "      <td>16556</td>\n",
       "      <td>current</td>\n",
       "      <td>M</td>\n",
       "      <td>28</td>\n",
       "      <td>239.0</td>\n",
       "      <td>0.000000</td>\n",
       "      <td>35661.995527</td>\n",
       "      <td>13474.223363</td>\n",
       "      <td>23.0</td>\n",
       "      <td>14.0</td>\n",
       "      <td>...</td>\n",
       "      <td>15.0</td>\n",
       "      <td>519029.306872</td>\n",
       "      <td>8.525740e+05</td>\n",
       "      <td>6.110580e+05</td>\n",
       "      <td>3.0</td>\n",
       "      <td>26.0</td>\n",
       "      <td>349316.588945</td>\n",
       "      <td>NaN</td>\n",
       "      <td>14588.0</td>\n",
       "      <td>21-30</td>\n",
       "    </tr>\n",
       "  </tbody>\n",
       "</table>\n",
       "<p>5 rows × 41 columns</p>\n",
       "</div>"
      ],
      "text/plain": [
       "      ID account_type gender  age  region_code   dc_cons_apr   dc_cons_may  \\\n",
       "0  12554       saving      F   36        336.0  10740.542453  26271.575951   \n",
       "1  17645      current      M   24        529.0  15400.274698  16346.513708   \n",
       "2   7604      current      M   34        541.0      0.000000  16616.791206   \n",
       "3   1590      current      M   39        523.0  15962.461007  17848.552395   \n",
       "4  16556      current      M   28        239.0      0.000000  35661.995527   \n",
       "\n",
       "    dc_cons_jun  cc_count_apr  cc_count_may  ...  debit_count_may  \\\n",
       "0  12332.393444           4.0           6.0  ...              1.0   \n",
       "1  13308.843760          14.0          10.0  ...             17.0   \n",
       "2   8165.060330          19.0           8.0  ...             22.0   \n",
       "3  28502.691521           0.0           1.0  ...             39.0   \n",
       "4  13474.223363          23.0          14.0  ...             15.0   \n",
       "\n",
       "   max_credit_amount_may  debit_amount_jun  credit_amount_jun  \\\n",
       "0          110403.214364      1.114847e+06       6.868706e+05   \n",
       "1          336653.547124      4.010666e+05       2.368395e+05   \n",
       "2          359000.879855      8.944534e+05       1.896231e+06   \n",
       "3          217724.536892      1.772801e+06       1.276362e+06   \n",
       "4          519029.306872      8.525740e+05       6.110580e+05   \n",
       "\n",
       "   credit_count_jun  debit_count_jun  max_credit_amount_jun  loan_enq  \\\n",
       "0               2.0              1.0          161824.467583       NaN   \n",
       "1              10.0             31.0          530033.850635       NaN   \n",
       "2               5.0             24.0          481495.648386         Y   \n",
       "3               7.0             37.0          536714.940949       NaN   \n",
       "4               3.0             26.0          349316.588945       NaN   \n",
       "\n",
       "   cc_cons  age_range  \n",
       "0   1946.0      31-40  \n",
       "1  66784.0      21-30  \n",
       "2  14469.0      31-40  \n",
       "3   6494.0      31-40  \n",
       "4  14588.0      21-30  \n",
       "\n",
       "[5 rows x 41 columns]"
      ]
     },
     "execution_count": 15,
     "metadata": {},
     "output_type": "execute_result"
    }
   ],
   "source": [
    "train_data.head()"
   ]
  },
  {
   "cell_type": "code",
   "execution_count": 16,
   "metadata": {},
   "outputs": [
    {
     "data": {
      "text/html": [
       "<div>\n",
       "<style scoped>\n",
       "    .dataframe tbody tr th:only-of-type {\n",
       "        vertical-align: middle;\n",
       "    }\n",
       "\n",
       "    .dataframe tbody tr th {\n",
       "        vertical-align: top;\n",
       "    }\n",
       "\n",
       "    .dataframe thead th {\n",
       "        text-align: right;\n",
       "    }\n",
       "</style>\n",
       "<table border=\"1\" class=\"dataframe\">\n",
       "  <thead>\n",
       "    <tr style=\"text-align: right;\">\n",
       "      <th></th>\n",
       "      <th>ID</th>\n",
       "      <th>account_type</th>\n",
       "      <th>gender</th>\n",
       "      <th>age</th>\n",
       "      <th>region_code</th>\n",
       "      <th>dc_cons_apr</th>\n",
       "      <th>dc_cons_may</th>\n",
       "      <th>dc_cons_jun</th>\n",
       "      <th>cc_count_apr</th>\n",
       "      <th>cc_count_may</th>\n",
       "      <th>...</th>\n",
       "      <th>credit_count_may</th>\n",
       "      <th>debit_count_may</th>\n",
       "      <th>max_credit_amount_may</th>\n",
       "      <th>debit_amount_jun</th>\n",
       "      <th>credit_amount_jun</th>\n",
       "      <th>credit_count_jun</th>\n",
       "      <th>debit_count_jun</th>\n",
       "      <th>max_credit_amount_jun</th>\n",
       "      <th>loan_enq</th>\n",
       "      <th>age_range</th>\n",
       "    </tr>\n",
       "  </thead>\n",
       "  <tbody>\n",
       "    <tr>\n",
       "      <td>0</td>\n",
       "      <td>17591</td>\n",
       "      <td>saving</td>\n",
       "      <td>F</td>\n",
       "      <td>30</td>\n",
       "      <td>528.0</td>\n",
       "      <td>0.000000</td>\n",
       "      <td>42771.755048</td>\n",
       "      <td>0.000000</td>\n",
       "      <td>7.0</td>\n",
       "      <td>13.0</td>\n",
       "      <td>...</td>\n",
       "      <td>1.0</td>\n",
       "      <td>7.0</td>\n",
       "      <td>341772.344851</td>\n",
       "      <td>6.636797e+05</td>\n",
       "      <td>7.566017e+03</td>\n",
       "      <td>4.0</td>\n",
       "      <td>13.0</td>\n",
       "      <td>398008.239676</td>\n",
       "      <td>NaN</td>\n",
       "      <td>21-30</td>\n",
       "    </tr>\n",
       "    <tr>\n",
       "      <td>1</td>\n",
       "      <td>13541</td>\n",
       "      <td>saving</td>\n",
       "      <td>M</td>\n",
       "      <td>39</td>\n",
       "      <td>762.0</td>\n",
       "      <td>22502.476453</td>\n",
       "      <td>10236.114508</td>\n",
       "      <td>405.292748</td>\n",
       "      <td>4.0</td>\n",
       "      <td>2.0</td>\n",
       "      <td>...</td>\n",
       "      <td>6.0</td>\n",
       "      <td>13.0</td>\n",
       "      <td>173291.914429</td>\n",
       "      <td>1.722120e+06</td>\n",
       "      <td>1.855703e+06</td>\n",
       "      <td>2.0</td>\n",
       "      <td>18.0</td>\n",
       "      <td>299411.136857</td>\n",
       "      <td>NaN</td>\n",
       "      <td>31-40</td>\n",
       "    </tr>\n",
       "    <tr>\n",
       "      <td>2</td>\n",
       "      <td>13431</td>\n",
       "      <td>current</td>\n",
       "      <td>M</td>\n",
       "      <td>40</td>\n",
       "      <td>670.0</td>\n",
       "      <td>5641.673462</td>\n",
       "      <td>21121.266438</td>\n",
       "      <td>10685.178733</td>\n",
       "      <td>12.0</td>\n",
       "      <td>9.0</td>\n",
       "      <td>...</td>\n",
       "      <td>4.0</td>\n",
       "      <td>21.0</td>\n",
       "      <td>566091.118578</td>\n",
       "      <td>2.911543e+05</td>\n",
       "      <td>2.689932e+05</td>\n",
       "      <td>10.0</td>\n",
       "      <td>18.0</td>\n",
       "      <td>122919.566871</td>\n",
       "      <td>NaN</td>\n",
       "      <td>31-40</td>\n",
       "    </tr>\n",
       "    <tr>\n",
       "      <td>3</td>\n",
       "      <td>8687</td>\n",
       "      <td>current</td>\n",
       "      <td>F</td>\n",
       "      <td>24</td>\n",
       "      <td>548.0</td>\n",
       "      <td>0.000000</td>\n",
       "      <td>6744.070501</td>\n",
       "      <td>0.000000</td>\n",
       "      <td>9.0</td>\n",
       "      <td>2.0</td>\n",
       "      <td>...</td>\n",
       "      <td>7.0</td>\n",
       "      <td>19.0</td>\n",
       "      <td>397413.923723</td>\n",
       "      <td>6.850615e+05</td>\n",
       "      <td>9.234176e+05</td>\n",
       "      <td>9.0</td>\n",
       "      <td>12.0</td>\n",
       "      <td>549513.485678</td>\n",
       "      <td>NaN</td>\n",
       "      <td>21-30</td>\n",
       "    </tr>\n",
       "    <tr>\n",
       "      <td>4</td>\n",
       "      <td>14727</td>\n",
       "      <td>current</td>\n",
       "      <td>M</td>\n",
       "      <td>33</td>\n",
       "      <td>515.0</td>\n",
       "      <td>17672.792182</td>\n",
       "      <td>77621.691080</td>\n",
       "      <td>7066.852574</td>\n",
       "      <td>1.0</td>\n",
       "      <td>1.0</td>\n",
       "      <td>...</td>\n",
       "      <td>9.0</td>\n",
       "      <td>38.0</td>\n",
       "      <td>179406.943083</td>\n",
       "      <td>5.525640e+05</td>\n",
       "      <td>6.732497e+05</td>\n",
       "      <td>15.0</td>\n",
       "      <td>34.0</td>\n",
       "      <td>198565.622807</td>\n",
       "      <td>NaN</td>\n",
       "      <td>31-40</td>\n",
       "    </tr>\n",
       "  </tbody>\n",
       "</table>\n",
       "<p>5 rows × 40 columns</p>\n",
       "</div>"
      ],
      "text/plain": [
       "      ID account_type gender  age  region_code   dc_cons_apr   dc_cons_may  \\\n",
       "0  17591       saving      F   30        528.0      0.000000  42771.755048   \n",
       "1  13541       saving      M   39        762.0  22502.476453  10236.114508   \n",
       "2  13431      current      M   40        670.0   5641.673462  21121.266438   \n",
       "3   8687      current      F   24        548.0      0.000000   6744.070501   \n",
       "4  14727      current      M   33        515.0  17672.792182  77621.691080   \n",
       "\n",
       "    dc_cons_jun  cc_count_apr  cc_count_may  ...  credit_count_may  \\\n",
       "0      0.000000           7.0          13.0  ...               1.0   \n",
       "1    405.292748           4.0           2.0  ...               6.0   \n",
       "2  10685.178733          12.0           9.0  ...               4.0   \n",
       "3      0.000000           9.0           2.0  ...               7.0   \n",
       "4   7066.852574           1.0           1.0  ...               9.0   \n",
       "\n",
       "   debit_count_may  max_credit_amount_may  debit_amount_jun  \\\n",
       "0              7.0          341772.344851      6.636797e+05   \n",
       "1             13.0          173291.914429      1.722120e+06   \n",
       "2             21.0          566091.118578      2.911543e+05   \n",
       "3             19.0          397413.923723      6.850615e+05   \n",
       "4             38.0          179406.943083      5.525640e+05   \n",
       "\n",
       "   credit_amount_jun  credit_count_jun  debit_count_jun  \\\n",
       "0       7.566017e+03               4.0             13.0   \n",
       "1       1.855703e+06               2.0             18.0   \n",
       "2       2.689932e+05              10.0             18.0   \n",
       "3       9.234176e+05               9.0             12.0   \n",
       "4       6.732497e+05              15.0             34.0   \n",
       "\n",
       "   max_credit_amount_jun  loan_enq  age_range  \n",
       "0          398008.239676       NaN      21-30  \n",
       "1          299411.136857       NaN      31-40  \n",
       "2          122919.566871       NaN      31-40  \n",
       "3          549513.485678       NaN      21-30  \n",
       "4          198565.622807       NaN      31-40  \n",
       "\n",
       "[5 rows x 40 columns]"
      ]
     },
     "execution_count": 16,
     "metadata": {},
     "output_type": "execute_result"
    }
   ],
   "source": [
    "test_data.head()"
   ]
  },
  {
   "cell_type": "code",
   "execution_count": 17,
   "metadata": {},
   "outputs": [
    {
     "data": {
      "text/plain": [
       "<seaborn.axisgrid.JointGrid at 0x7f7326aef950>"
      ]
     },
     "execution_count": 17,
     "metadata": {},
     "output_type": "execute_result"
    },
    {
     "data": {
      "image/png": "[encoded data removed]",
      "text/plain": [
       "<Figure size 432x432 with 3 Axes>"
      ]
     },
     "metadata": {
      "needs_background": "light"
     },
     "output_type": "display_data"
    }
   ],
   "source": [
    "sns.jointplot('age', 'card_lim', data=train_data, kind='reg')"
   ]
  },
  {
   "cell_type": "code",
   "execution_count": 18,
   "metadata": {},
   "outputs": [
    {
     "name": "stderr",
     "output_type": "stream",
     "text": [
      "/home/sourabh/anaconda3/lib/python3.7/site-packages/sklearn/utils/deprecation.py:66: DeprecationWarning: Class Imputer is deprecated; Imputer was deprecated in version 0.20 and will be removed in 0.22. Import impute.SimpleImputer from sklearn instead.\n",
      "  warnings.warn(msg, category=DeprecationWarning)\n"
     ]
    }
   ],
   "source": [
    "cc_limit_imp = Imputer(missing_values=\"NaN\",strategy='mean',axis=0)\n",
    "train_data['card_lim_imp'] = cc_limit_imp.fit_transform(train_data[['card_lim']])\n",
    "test_data['card_lim_imp'] = cc_limit_imp.fit_transform(test_data[['card_lim']])"
   ]
  },
  {
   "cell_type": "code",
   "execution_count": 19,
   "metadata": {},
   "outputs": [
    {
     "data": {
      "text/html": [
       "<div>\n",
       "<style scoped>\n",
       "    .dataframe tbody tr th:only-of-type {\n",
       "        vertical-align: middle;\n",
       "    }\n",
       "\n",
       "    .dataframe tbody tr th {\n",
       "        vertical-align: top;\n",
       "    }\n",
       "\n",
       "    .dataframe thead th {\n",
       "        text-align: right;\n",
       "    }\n",
       "</style>\n",
       "<table border=\"1\" class=\"dataframe\">\n",
       "  <thead>\n",
       "    <tr style=\"text-align: right;\">\n",
       "      <th></th>\n",
       "      <th>ID</th>\n",
       "      <th>account_type</th>\n",
       "      <th>gender</th>\n",
       "      <th>age</th>\n",
       "      <th>region_code</th>\n",
       "      <th>dc_cons_apr</th>\n",
       "      <th>dc_cons_may</th>\n",
       "      <th>dc_cons_jun</th>\n",
       "      <th>cc_count_apr</th>\n",
       "      <th>cc_count_may</th>\n",
       "      <th>...</th>\n",
       "      <th>max_credit_amount_may</th>\n",
       "      <th>debit_amount_jun</th>\n",
       "      <th>credit_amount_jun</th>\n",
       "      <th>credit_count_jun</th>\n",
       "      <th>debit_count_jun</th>\n",
       "      <th>max_credit_amount_jun</th>\n",
       "      <th>loan_enq</th>\n",
       "      <th>cc_cons</th>\n",
       "      <th>age_range</th>\n",
       "      <th>card_lim_imp</th>\n",
       "    </tr>\n",
       "  </thead>\n",
       "  <tbody>\n",
       "    <tr>\n",
       "      <td>0</td>\n",
       "      <td>12554</td>\n",
       "      <td>saving</td>\n",
       "      <td>F</td>\n",
       "      <td>36</td>\n",
       "      <td>336.0</td>\n",
       "      <td>10740.542453</td>\n",
       "      <td>26271.575951</td>\n",
       "      <td>12332.393444</td>\n",
       "      <td>4.0</td>\n",
       "      <td>6.0</td>\n",
       "      <td>...</td>\n",
       "      <td>110403.214364</td>\n",
       "      <td>1.114847e+06</td>\n",
       "      <td>6.868706e+05</td>\n",
       "      <td>2.0</td>\n",
       "      <td>1.0</td>\n",
       "      <td>161824.467583</td>\n",
       "      <td>NaN</td>\n",
       "      <td>1946.0</td>\n",
       "      <td>31-40</td>\n",
       "      <td>248145.0</td>\n",
       "    </tr>\n",
       "    <tr>\n",
       "      <td>1</td>\n",
       "      <td>17645</td>\n",
       "      <td>current</td>\n",
       "      <td>M</td>\n",
       "      <td>24</td>\n",
       "      <td>529.0</td>\n",
       "      <td>15400.274698</td>\n",
       "      <td>16346.513708</td>\n",
       "      <td>13308.843760</td>\n",
       "      <td>14.0</td>\n",
       "      <td>10.0</td>\n",
       "      <td>...</td>\n",
       "      <td>336653.547124</td>\n",
       "      <td>4.010666e+05</td>\n",
       "      <td>2.368395e+05</td>\n",
       "      <td>10.0</td>\n",
       "      <td>31.0</td>\n",
       "      <td>530033.850635</td>\n",
       "      <td>NaN</td>\n",
       "      <td>66784.0</td>\n",
       "      <td>21-30</td>\n",
       "      <td>24005.0</td>\n",
       "    </tr>\n",
       "    <tr>\n",
       "      <td>2</td>\n",
       "      <td>7604</td>\n",
       "      <td>current</td>\n",
       "      <td>M</td>\n",
       "      <td>34</td>\n",
       "      <td>541.0</td>\n",
       "      <td>0.000000</td>\n",
       "      <td>16616.791206</td>\n",
       "      <td>8165.060330</td>\n",
       "      <td>19.0</td>\n",
       "      <td>8.0</td>\n",
       "      <td>...</td>\n",
       "      <td>359000.879855</td>\n",
       "      <td>8.944534e+05</td>\n",
       "      <td>1.896231e+06</td>\n",
       "      <td>5.0</td>\n",
       "      <td>24.0</td>\n",
       "      <td>481495.648386</td>\n",
       "      <td>Y</td>\n",
       "      <td>14469.0</td>\n",
       "      <td>31-40</td>\n",
       "      <td>55953.0</td>\n",
       "    </tr>\n",
       "    <tr>\n",
       "      <td>3</td>\n",
       "      <td>1590</td>\n",
       "      <td>current</td>\n",
       "      <td>M</td>\n",
       "      <td>39</td>\n",
       "      <td>523.0</td>\n",
       "      <td>15962.461007</td>\n",
       "      <td>17848.552395</td>\n",
       "      <td>28502.691521</td>\n",
       "      <td>0.0</td>\n",
       "      <td>1.0</td>\n",
       "      <td>...</td>\n",
       "      <td>217724.536892</td>\n",
       "      <td>1.772801e+06</td>\n",
       "      <td>1.276362e+06</td>\n",
       "      <td>7.0</td>\n",
       "      <td>37.0</td>\n",
       "      <td>536714.940949</td>\n",
       "      <td>NaN</td>\n",
       "      <td>6494.0</td>\n",
       "      <td>31-40</td>\n",
       "      <td>406984.0</td>\n",
       "    </tr>\n",
       "    <tr>\n",
       "      <td>4</td>\n",
       "      <td>16556</td>\n",
       "      <td>current</td>\n",
       "      <td>M</td>\n",
       "      <td>28</td>\n",
       "      <td>239.0</td>\n",
       "      <td>0.000000</td>\n",
       "      <td>35661.995527</td>\n",
       "      <td>13474.223363</td>\n",
       "      <td>23.0</td>\n",
       "      <td>14.0</td>\n",
       "      <td>...</td>\n",
       "      <td>519029.306872</td>\n",
       "      <td>8.525740e+05</td>\n",
       "      <td>6.110580e+05</td>\n",
       "      <td>3.0</td>\n",
       "      <td>26.0</td>\n",
       "      <td>349316.588945</td>\n",
       "      <td>NaN</td>\n",
       "      <td>14588.0</td>\n",
       "      <td>21-30</td>\n",
       "      <td>34545.0</td>\n",
       "    </tr>\n",
       "  </tbody>\n",
       "</table>\n",
       "<p>5 rows × 42 columns</p>\n",
       "</div>"
      ],
      "text/plain": [
       "      ID account_type gender  age  region_code   dc_cons_apr   dc_cons_may  \\\n",
       "0  12554       saving      F   36        336.0  10740.542453  26271.575951   \n",
       "1  17645      current      M   24        529.0  15400.274698  16346.513708   \n",
       "2   7604      current      M   34        541.0      0.000000  16616.791206   \n",
       "3   1590      current      M   39        523.0  15962.461007  17848.552395   \n",
       "4  16556      current      M   28        239.0      0.000000  35661.995527   \n",
       "\n",
       "    dc_cons_jun  cc_count_apr  cc_count_may  ...  max_credit_amount_may  \\\n",
       "0  12332.393444           4.0           6.0  ...          110403.214364   \n",
       "1  13308.843760          14.0          10.0  ...          336653.547124   \n",
       "2   8165.060330          19.0           8.0  ...          359000.879855   \n",
       "3  28502.691521           0.0           1.0  ...          217724.536892   \n",
       "4  13474.223363          23.0          14.0  ...          519029.306872   \n",
       "\n",
       "   debit_amount_jun  credit_amount_jun  credit_count_jun  debit_count_jun  \\\n",
       "0      1.114847e+06       6.868706e+05               2.0              1.0   \n",
       "1      4.010666e+05       2.368395e+05              10.0             31.0   \n",
       "2      8.944534e+05       1.896231e+06               5.0             24.0   \n",
       "3      1.772801e+06       1.276362e+06               7.0             37.0   \n",
       "4      8.525740e+05       6.110580e+05               3.0             26.0   \n",
       "\n",
       "   max_credit_amount_jun  loan_enq  cc_cons  age_range  card_lim_imp  \n",
       "0          161824.467583       NaN   1946.0      31-40      248145.0  \n",
       "1          530033.850635       NaN  66784.0      21-30       24005.0  \n",
       "2          481495.648386         Y  14469.0      31-40       55953.0  \n",
       "3          536714.940949       NaN   6494.0      31-40      406984.0  \n",
       "4          349316.588945       NaN  14588.0      21-30       34545.0  \n",
       "\n",
       "[5 rows x 42 columns]"
      ]
     },
     "execution_count": 19,
     "metadata": {},
     "output_type": "execute_result"
    }
   ],
   "source": [
    "train_data.head()"
   ]
  },
  {
   "cell_type": "code",
   "execution_count": 20,
   "metadata": {},
   "outputs": [
    {
     "data": {
      "text/plain": [
       "' missing_card_limit '"
      ]
     },
     "execution_count": 20,
     "metadata": {},
     "output_type": "execute_result"
    }
   ],
   "source": [
    "''' missing_card_limit ''' \n",
    "#age_wise_card_limit_mean = pd.DataFrame(train_data.groupby(['age','account_type'])['card_lim'].mean()).reset_index()\n",
    "#age_wise_card_limit_med = pd.DataFrame(train_data.groupby(['age','account_type'])['card_lim'].median()).reset_index()"
   ]
  },
  {
   "cell_type": "code",
   "execution_count": 21,
   "metadata": {},
   "outputs": [],
   "source": [
    "#age_wise_card_limit_med\n",
    "#train_data[X_train['age']==68][['card_lim','account_type']]"
   ]
  },
  {
   "cell_type": "markdown",
   "metadata": {},
   "source": [
    "### Hot Label Encoding for Object DataType"
   ]
  },
  {
   "cell_type": "code",
   "execution_count": 22,
   "metadata": {},
   "outputs": [
    {
     "data": {
      "text/html": [
       "<div>\n",
       "<style scoped>\n",
       "    .dataframe tbody tr th:only-of-type {\n",
       "        vertical-align: middle;\n",
       "    }\n",
       "\n",
       "    .dataframe tbody tr th {\n",
       "        vertical-align: top;\n",
       "    }\n",
       "\n",
       "    .dataframe thead th {\n",
       "        text-align: right;\n",
       "    }\n",
       "</style>\n",
       "<table border=\"1\" class=\"dataframe\">\n",
       "  <thead>\n",
       "    <tr style=\"text-align: right;\">\n",
       "      <th></th>\n",
       "      <th>account_type</th>\n",
       "      <th>gender</th>\n",
       "      <th>age_range</th>\n",
       "    </tr>\n",
       "  </thead>\n",
       "  <tbody>\n",
       "    <tr>\n",
       "      <td>0</td>\n",
       "      <td>saving</td>\n",
       "      <td>F</td>\n",
       "      <td>31-40</td>\n",
       "    </tr>\n",
       "    <tr>\n",
       "      <td>1</td>\n",
       "      <td>current</td>\n",
       "      <td>M</td>\n",
       "      <td>21-30</td>\n",
       "    </tr>\n",
       "    <tr>\n",
       "      <td>2</td>\n",
       "      <td>current</td>\n",
       "      <td>M</td>\n",
       "      <td>31-40</td>\n",
       "    </tr>\n",
       "    <tr>\n",
       "      <td>3</td>\n",
       "      <td>current</td>\n",
       "      <td>M</td>\n",
       "      <td>31-40</td>\n",
       "    </tr>\n",
       "    <tr>\n",
       "      <td>4</td>\n",
       "      <td>current</td>\n",
       "      <td>M</td>\n",
       "      <td>21-30</td>\n",
       "    </tr>\n",
       "  </tbody>\n",
       "</table>\n",
       "</div>"
      ],
      "text/plain": [
       "  account_type gender age_range\n",
       "0       saving      F     31-40\n",
       "1      current      M     21-30\n",
       "2      current      M     31-40\n",
       "3      current      M     31-40\n",
       "4      current      M     21-30"
      ]
     },
     "execution_count": 22,
     "metadata": {},
     "output_type": "execute_result"
    }
   ],
   "source": [
    "train_cat = train_data[['account_type','gender','age_range']]\n",
    "test_cat = test_data[['account_type','gender','age_range']]\n",
    "train_cat.head()"
   ]
  },
  {
   "cell_type": "code",
   "execution_count": 23,
   "metadata": {},
   "outputs": [
    {
     "data": {
      "text/html": [
       "<div>\n",
       "<style scoped>\n",
       "    .dataframe tbody tr th:only-of-type {\n",
       "        vertical-align: middle;\n",
       "    }\n",
       "\n",
       "    .dataframe tbody tr th {\n",
       "        vertical-align: top;\n",
       "    }\n",
       "\n",
       "    .dataframe thead th {\n",
       "        text-align: right;\n",
       "    }\n",
       "</style>\n",
       "<table border=\"1\" class=\"dataframe\">\n",
       "  <thead>\n",
       "    <tr style=\"text-align: right;\">\n",
       "      <th></th>\n",
       "      <th>account_type_current</th>\n",
       "      <th>account_type_saving</th>\n",
       "      <th>gender_F</th>\n",
       "      <th>gender_M</th>\n",
       "      <th>age_range_11-20</th>\n",
       "      <th>age_range_21-30</th>\n",
       "      <th>age_range_31-40</th>\n",
       "      <th>age_range_41-50</th>\n",
       "      <th>age_range_51-60</th>\n",
       "      <th>age_range_61-70</th>\n",
       "    </tr>\n",
       "  </thead>\n",
       "  <tbody>\n",
       "    <tr>\n",
       "      <td>0</td>\n",
       "      <td>0</td>\n",
       "      <td>1</td>\n",
       "      <td>1</td>\n",
       "      <td>0</td>\n",
       "      <td>0</td>\n",
       "      <td>0</td>\n",
       "      <td>1</td>\n",
       "      <td>0</td>\n",
       "      <td>0</td>\n",
       "      <td>0</td>\n",
       "    </tr>\n",
       "    <tr>\n",
       "      <td>1</td>\n",
       "      <td>1</td>\n",
       "      <td>0</td>\n",
       "      <td>0</td>\n",
       "      <td>1</td>\n",
       "      <td>0</td>\n",
       "      <td>1</td>\n",
       "      <td>0</td>\n",
       "      <td>0</td>\n",
       "      <td>0</td>\n",
       "      <td>0</td>\n",
       "    </tr>\n",
       "    <tr>\n",
       "      <td>2</td>\n",
       "      <td>1</td>\n",
       "      <td>0</td>\n",
       "      <td>0</td>\n",
       "      <td>1</td>\n",
       "      <td>0</td>\n",
       "      <td>0</td>\n",
       "      <td>1</td>\n",
       "      <td>0</td>\n",
       "      <td>0</td>\n",
       "      <td>0</td>\n",
       "    </tr>\n",
       "    <tr>\n",
       "      <td>3</td>\n",
       "      <td>1</td>\n",
       "      <td>0</td>\n",
       "      <td>0</td>\n",
       "      <td>1</td>\n",
       "      <td>0</td>\n",
       "      <td>0</td>\n",
       "      <td>1</td>\n",
       "      <td>0</td>\n",
       "      <td>0</td>\n",
       "      <td>0</td>\n",
       "    </tr>\n",
       "    <tr>\n",
       "      <td>4</td>\n",
       "      <td>1</td>\n",
       "      <td>0</td>\n",
       "      <td>0</td>\n",
       "      <td>1</td>\n",
       "      <td>0</td>\n",
       "      <td>1</td>\n",
       "      <td>0</td>\n",
       "      <td>0</td>\n",
       "      <td>0</td>\n",
       "      <td>0</td>\n",
       "    </tr>\n",
       "  </tbody>\n",
       "</table>\n",
       "</div>"
      ],
      "text/plain": [
       "   account_type_current  account_type_saving  gender_F  gender_M  \\\n",
       "0                     0                    1         1         0   \n",
       "1                     1                    0         0         1   \n",
       "2                     1                    0         0         1   \n",
       "3                     1                    0         0         1   \n",
       "4                     1                    0         0         1   \n",
       "\n",
       "   age_range_11-20  age_range_21-30  age_range_31-40  age_range_41-50  \\\n",
       "0                0                0                1                0   \n",
       "1                0                1                0                0   \n",
       "2                0                0                1                0   \n",
       "3                0                0                1                0   \n",
       "4                0                1                0                0   \n",
       "\n",
       "   age_range_51-60  age_range_61-70  \n",
       "0                0                0  \n",
       "1                0                0  \n",
       "2                0                0  \n",
       "3                0                0  \n",
       "4                0                0  "
      ]
     },
     "execution_count": 23,
     "metadata": {},
     "output_type": "execute_result"
    }
   ],
   "source": [
    "train_enc = pd.get_dummies(train_cat, columns=['account_type','gender','age_range'])\n",
    "test_enc = pd.get_dummies(test_cat, columns=['account_type','gender','age_range'])\n",
    "#X_enc.drop(['loan_enq'], axis=1,inplace=True)\n",
    "train_enc.head()"
   ]
  },
  {
   "cell_type": "markdown",
   "metadata": {},
   "source": [
    "### Droping Unwanted Columns"
   ]
  },
  {
   "cell_type": "code",
   "execution_count": 24,
   "metadata": {
    "scrolled": true
   },
   "outputs": [],
   "source": [
    "train_data.drop(['card_lim','ID','region_code','investment_4','vehicle_loan_active','investment_3','investment_1','vehicle_loan_closed','investment_2','personal_loan_closed','personal_loan_active','loan_enq','age','account_type','gender','age_range'], axis=1,inplace=True)\n",
    "train_data.drop(['dc_cons_apr','dc_cons_may','dc_cons_jun','dc_count_apr','dc_count_may','dc_count_jun'], axis=1,inplace=True)"
   ]
  },
  {
   "cell_type": "code",
   "execution_count": 25,
   "metadata": {},
   "outputs": [],
   "source": [
    "test_data.drop(['card_lim','ID','region_code','investment_4','vehicle_loan_active','investment_3','investment_1','vehicle_loan_closed','investment_2','personal_loan_closed','personal_loan_active','loan_enq','age','account_type','gender','age_range'], axis=1,inplace=True)\n",
    "test_data.drop(['dc_cons_apr','dc_cons_may','dc_cons_jun','dc_count_apr','dc_count_may','dc_count_jun'], axis=1,inplace=True)"
   ]
  },
  {
   "cell_type": "code",
   "execution_count": 26,
   "metadata": {},
   "outputs": [
    {
     "data": {
      "text/plain": [
       "(15000, 20)"
      ]
     },
     "execution_count": 26,
     "metadata": {},
     "output_type": "execute_result"
    }
   ],
   "source": [
    "train_data.shape"
   ]
  },
  {
   "cell_type": "code",
   "execution_count": 27,
   "metadata": {},
   "outputs": [
    {
     "data": {
      "text/plain": [
       "(5000, 19)"
      ]
     },
     "execution_count": 27,
     "metadata": {},
     "output_type": "execute_result"
    }
   ],
   "source": [
    "test_data.shape"
   ]
  },
  {
   "cell_type": "markdown",
   "metadata": {},
   "source": [
    "### Concat Hot Labeled data with train dataset"
   ]
  },
  {
   "cell_type": "code",
   "execution_count": 28,
   "metadata": {},
   "outputs": [],
   "source": [
    "train_data = pd.concat([train_data,train_enc], axis=1)\n",
    "test_data = pd.concat([test_data,test_enc], axis=1)"
   ]
  },
  {
   "cell_type": "code",
   "execution_count": 29,
   "metadata": {
    "scrolled": false
   },
   "outputs": [
    {
     "data": {
      "text/plain": [
       "cc_count_apr             0\n",
       "cc_count_may             0\n",
       "cc_count_jun             0\n",
       "debit_amount_apr         0\n",
       "credit_amount_apr        0\n",
       "debit_count_apr          0\n",
       "credit_count_apr         0\n",
       "max_credit_amount_apr    0\n",
       "debit_amount_may         0\n",
       "credit_amount_may        0\n",
       "credit_count_may         0\n",
       "debit_count_may          0\n",
       "max_credit_amount_may    0\n",
       "debit_amount_jun         0\n",
       "credit_amount_jun        0\n",
       "credit_count_jun         0\n",
       "debit_count_jun          0\n",
       "max_credit_amount_jun    0\n",
       "cc_cons                  0\n",
       "card_lim_imp             0\n",
       "account_type_current     0\n",
       "account_type_saving      0\n",
       "gender_F                 0\n",
       "gender_M                 0\n",
       "age_range_11-20          0\n",
       "age_range_21-30          0\n",
       "age_range_31-40          0\n",
       "age_range_41-50          0\n",
       "age_range_51-60          0\n",
       "age_range_61-70          0\n",
       "dtype: int64"
      ]
     },
     "execution_count": 29,
     "metadata": {},
     "output_type": "execute_result"
    }
   ],
   "source": [
    "train_data.isnull().sum()"
   ]
  },
  {
   "cell_type": "code",
   "execution_count": 30,
   "metadata": {},
   "outputs": [
    {
     "data": {
      "text/plain": [
       "cc_count_apr             0\n",
       "cc_count_may             0\n",
       "cc_count_jun             0\n",
       "debit_amount_apr         0\n",
       "credit_amount_apr        0\n",
       "debit_count_apr          0\n",
       "credit_count_apr         0\n",
       "max_credit_amount_apr    0\n",
       "debit_amount_may         0\n",
       "credit_amount_may        0\n",
       "credit_count_may         0\n",
       "debit_count_may          0\n",
       "max_credit_amount_may    0\n",
       "debit_amount_jun         0\n",
       "credit_amount_jun        0\n",
       "credit_count_jun         0\n",
       "debit_count_jun          0\n",
       "max_credit_amount_jun    0\n",
       "card_lim_imp             0\n",
       "account_type_current     0\n",
       "account_type_saving      0\n",
       "gender_F                 0\n",
       "gender_M                 0\n",
       "age_range_11-20          0\n",
       "age_range_21-30          0\n",
       "age_range_31-40          0\n",
       "age_range_41-50          0\n",
       "age_range_51-60          0\n",
       "age_range_61-70          0\n",
       "dtype: int64"
      ]
     },
     "execution_count": 30,
     "metadata": {},
     "output_type": "execute_result"
    }
   ],
   "source": [
    "test_data.isnull().sum()"
   ]
  },
  {
   "cell_type": "markdown",
   "metadata": {},
   "source": [
    "# Split Data into Train & Test(val) sets"
   ]
  },
  {
   "cell_type": "code",
   "execution_count": 31,
   "metadata": {},
   "outputs": [],
   "source": [
    "X = train_data.iloc[:,:-1]\n",
    "#X = train_data.iloc[:,:]\n",
    "y = train_data['cc_cons']\n",
    "X_train, X_val, y_train, y_val = train_test_split(X,y,test_size =0.3 , random_state = 42)"
   ]
  },
  {
   "cell_type": "markdown",
   "metadata": {},
   "source": [
    "# Model 1 : linearReg"
   ]
  },
  {
   "cell_type": "code",
   "execution_count": 32,
   "metadata": {},
   "outputs": [],
   "source": [
    "from sklearn.linear_model import LinearRegression\n",
    "from sklearn.metrics import mean_absolute_error\n",
    "lr = LinearRegression()\n",
    "lr.fit(X_train,y_train)\n",
    "y_pred = lr.predict(X_val)    "
   ]
  },
  {
   "cell_type": "code",
   "execution_count": 33,
   "metadata": {
    "scrolled": true
   },
   "outputs": [
    {
     "data": {
      "text/plain": [
       "1.7275455415251165e-13"
      ]
     },
     "execution_count": 33,
     "metadata": {},
     "output_type": "execute_result"
    }
   ],
   "source": [
    "from sklearn.metrics import mean_squared_log_error\n",
    "np.sqrt(mean_squared_log_error( y_val, y_pred ))"
   ]
  },
  {
   "cell_type": "markdown",
   "metadata": {},
   "source": [
    "# Model 2 linearReg with PCA"
   ]
  },
  {
   "cell_type": "code",
   "execution_count": 34,
   "metadata": {},
   "outputs": [
    {
     "data": {
      "text/plain": [
       "Index(['cc_count_apr', 'cc_count_may', 'cc_count_jun', 'debit_amount_apr',\n",
       "       'credit_amount_apr', 'debit_count_apr', 'credit_count_apr',\n",
       "       'max_credit_amount_apr', 'debit_amount_may', 'credit_amount_may',\n",
       "       'credit_count_may', 'debit_count_may', 'max_credit_amount_may',\n",
       "       'debit_amount_jun', 'credit_amount_jun', 'credit_count_jun',\n",
       "       'debit_count_jun', 'max_credit_amount_jun', 'cc_cons', 'card_lim_imp',\n",
       "       'account_type_current', 'account_type_saving', 'gender_F', 'gender_M',\n",
       "       'age_range_11-20', 'age_range_21-30', 'age_range_31-40',\n",
       "       'age_range_41-50', 'age_range_51-60'],\n",
       "      dtype='object')"
      ]
     },
     "execution_count": 34,
     "metadata": {},
     "output_type": "execute_result"
    }
   ],
   "source": [
    "X.columns"
   ]
  },
  {
   "cell_type": "code",
   "execution_count": 35,
   "metadata": {},
   "outputs": [
    {
     "data": {
      "text/html": [
       "<div>\n",
       "<style scoped>\n",
       "    .dataframe tbody tr th:only-of-type {\n",
       "        vertical-align: middle;\n",
       "    }\n",
       "\n",
       "    .dataframe tbody tr th {\n",
       "        vertical-align: top;\n",
       "    }\n",
       "\n",
       "    .dataframe thead th {\n",
       "        text-align: right;\n",
       "    }\n",
       "</style>\n",
       "<table border=\"1\" class=\"dataframe\">\n",
       "  <thead>\n",
       "    <tr style=\"text-align: right;\">\n",
       "      <th></th>\n",
       "      <th>cc_count_apr</th>\n",
       "      <th>cc_count_may</th>\n",
       "      <th>cc_count_jun</th>\n",
       "      <th>debit_amount_apr</th>\n",
       "      <th>credit_amount_apr</th>\n",
       "      <th>debit_count_apr</th>\n",
       "      <th>credit_count_apr</th>\n",
       "      <th>max_credit_amount_apr</th>\n",
       "      <th>debit_amount_may</th>\n",
       "      <th>credit_amount_may</th>\n",
       "      <th>...</th>\n",
       "      <th>card_lim_imp</th>\n",
       "      <th>account_type_current</th>\n",
       "      <th>account_type_saving</th>\n",
       "      <th>gender_F</th>\n",
       "      <th>gender_M</th>\n",
       "      <th>age_range_11-20</th>\n",
       "      <th>age_range_21-30</th>\n",
       "      <th>age_range_31-40</th>\n",
       "      <th>age_range_41-50</th>\n",
       "      <th>age_range_51-60</th>\n",
       "    </tr>\n",
       "  </thead>\n",
       "  <tbody>\n",
       "    <tr>\n",
       "      <td>0</td>\n",
       "      <td>4.0</td>\n",
       "      <td>6.0</td>\n",
       "      <td>12.0</td>\n",
       "      <td>73179.474208</td>\n",
       "      <td>637691.332686</td>\n",
       "      <td>0.0</td>\n",
       "      <td>2.0</td>\n",
       "      <td>471134.273813</td>\n",
       "      <td>436171.358054</td>\n",
       "      <td>733348.558128</td>\n",
       "      <td>...</td>\n",
       "      <td>248145.0</td>\n",
       "      <td>0</td>\n",
       "      <td>1</td>\n",
       "      <td>1</td>\n",
       "      <td>0</td>\n",
       "      <td>0</td>\n",
       "      <td>0</td>\n",
       "      <td>1</td>\n",
       "      <td>0</td>\n",
       "      <td>0</td>\n",
       "    </tr>\n",
       "    <tr>\n",
       "      <td>1</td>\n",
       "      <td>14.0</td>\n",
       "      <td>10.0</td>\n",
       "      <td>31.0</td>\n",
       "      <td>405375.599701</td>\n",
       "      <td>182564.042106</td>\n",
       "      <td>20.0</td>\n",
       "      <td>4.0</td>\n",
       "      <td>424970.394837</td>\n",
       "      <td>629510.469240</td>\n",
       "      <td>140978.447774</td>\n",
       "      <td>...</td>\n",
       "      <td>24005.0</td>\n",
       "      <td>1</td>\n",
       "      <td>0</td>\n",
       "      <td>0</td>\n",
       "      <td>1</td>\n",
       "      <td>0</td>\n",
       "      <td>1</td>\n",
       "      <td>0</td>\n",
       "      <td>0</td>\n",
       "      <td>0</td>\n",
       "    </tr>\n",
       "    <tr>\n",
       "      <td>2</td>\n",
       "      <td>19.0</td>\n",
       "      <td>8.0</td>\n",
       "      <td>23.0</td>\n",
       "      <td>422194.833963</td>\n",
       "      <td>435950.005843</td>\n",
       "      <td>28.0</td>\n",
       "      <td>3.0</td>\n",
       "      <td>120890.570583</td>\n",
       "      <td>616448.408016</td>\n",
       "      <td>370850.536002</td>\n",
       "      <td>...</td>\n",
       "      <td>55953.0</td>\n",
       "      <td>1</td>\n",
       "      <td>0</td>\n",
       "      <td>0</td>\n",
       "      <td>1</td>\n",
       "      <td>0</td>\n",
       "      <td>0</td>\n",
       "      <td>1</td>\n",
       "      <td>0</td>\n",
       "      <td>0</td>\n",
       "    </tr>\n",
       "    <tr>\n",
       "      <td>3</td>\n",
       "      <td>0.0</td>\n",
       "      <td>1.0</td>\n",
       "      <td>17.0</td>\n",
       "      <td>33573.884833</td>\n",
       "      <td>540109.584943</td>\n",
       "      <td>43.0</td>\n",
       "      <td>5.0</td>\n",
       "      <td>435724.515259</td>\n",
       "      <td>280011.283977</td>\n",
       "      <td>260148.096858</td>\n",
       "      <td>...</td>\n",
       "      <td>406984.0</td>\n",
       "      <td>1</td>\n",
       "      <td>0</td>\n",
       "      <td>0</td>\n",
       "      <td>1</td>\n",
       "      <td>0</td>\n",
       "      <td>0</td>\n",
       "      <td>1</td>\n",
       "      <td>0</td>\n",
       "      <td>0</td>\n",
       "    </tr>\n",
       "    <tr>\n",
       "      <td>4</td>\n",
       "      <td>23.0</td>\n",
       "      <td>14.0</td>\n",
       "      <td>32.0</td>\n",
       "      <td>161189.083681</td>\n",
       "      <td>306331.265550</td>\n",
       "      <td>5.0</td>\n",
       "      <td>5.0</td>\n",
       "      <td>279918.414129</td>\n",
       "      <td>206119.371916</td>\n",
       "      <td>395626.125055</td>\n",
       "      <td>...</td>\n",
       "      <td>34545.0</td>\n",
       "      <td>1</td>\n",
       "      <td>0</td>\n",
       "      <td>0</td>\n",
       "      <td>1</td>\n",
       "      <td>0</td>\n",
       "      <td>1</td>\n",
       "      <td>0</td>\n",
       "      <td>0</td>\n",
       "      <td>0</td>\n",
       "    </tr>\n",
       "  </tbody>\n",
       "</table>\n",
       "<p>5 rows × 29 columns</p>\n",
       "</div>"
      ],
      "text/plain": [
       "   cc_count_apr  cc_count_may  cc_count_jun  debit_amount_apr  \\\n",
       "0           4.0           6.0          12.0      73179.474208   \n",
       "1          14.0          10.0          31.0     405375.599701   \n",
       "2          19.0           8.0          23.0     422194.833963   \n",
       "3           0.0           1.0          17.0      33573.884833   \n",
       "4          23.0          14.0          32.0     161189.083681   \n",
       "\n",
       "   credit_amount_apr  debit_count_apr  credit_count_apr  \\\n",
       "0      637691.332686              0.0               2.0   \n",
       "1      182564.042106             20.0               4.0   \n",
       "2      435950.005843             28.0               3.0   \n",
       "3      540109.584943             43.0               5.0   \n",
       "4      306331.265550              5.0               5.0   \n",
       "\n",
       "   max_credit_amount_apr  debit_amount_may  credit_amount_may  ...  \\\n",
       "0          471134.273813     436171.358054      733348.558128  ...   \n",
       "1          424970.394837     629510.469240      140978.447774  ...   \n",
       "2          120890.570583     616448.408016      370850.536002  ...   \n",
       "3          435724.515259     280011.283977      260148.096858  ...   \n",
       "4          279918.414129     206119.371916      395626.125055  ...   \n",
       "\n",
       "   card_lim_imp  account_type_current  account_type_saving  gender_F  \\\n",
       "0      248145.0                     0                    1         1   \n",
       "1       24005.0                     1                    0         0   \n",
       "2       55953.0                     1                    0         0   \n",
       "3      406984.0                     1                    0         0   \n",
       "4       34545.0                     1                    0         0   \n",
       "\n",
       "   gender_M  age_range_11-20  age_range_21-30  age_range_31-40  \\\n",
       "0         0                0                0                1   \n",
       "1         1                0                1                0   \n",
       "2         1                0                0                1   \n",
       "3         1                0                0                1   \n",
       "4         1                0                1                0   \n",
       "\n",
       "   age_range_41-50  age_range_51-60  \n",
       "0                0                0  \n",
       "1                0                0  \n",
       "2                0                0  \n",
       "3                0                0  \n",
       "4                0                0  \n",
       "\n",
       "[5 rows x 29 columns]"
      ]
     },
     "execution_count": 35,
     "metadata": {},
     "output_type": "execute_result"
    }
   ],
   "source": [
    "X.head()"
   ]
  },
  {
   "cell_type": "code",
   "execution_count": 36,
   "metadata": {},
   "outputs": [],
   "source": [
    "from sklearn.preprocessing import StandardScaler\n",
    "from sklearn.decomposition import PCA \n",
    "scaler=StandardScaler()\n",
    "X_scaled = scaler.fit_transform(X)\n",
    "\n",
    "n_features = len(list(X.columns))\n",
    "\n",
    "pca = PCA(n_components=n_features)\n",
    "X_pca = pca.fit_transform(X_scaled)\n"
   ]
  },
  {
   "cell_type": "code",
   "execution_count": 37,
   "metadata": {},
   "outputs": [],
   "source": [
    "X_train, X_val, y_train, y_val = train_test_split(X_pca,y,test_size =0.3 , random_state = 42)"
   ]
  },
  {
   "cell_type": "code",
   "execution_count": 38,
   "metadata": {},
   "outputs": [
    {
     "data": {
      "text/plain": [
       "array([16385.,  9512.,  7016., ..., 16253., 13591., 17190.])"
      ]
     },
     "execution_count": 38,
     "metadata": {},
     "output_type": "execute_result"
    }
   ],
   "source": [
    "from sklearn.linear_model import LinearRegression\n",
    "from sklearn.metrics import mean_absolute_error\n",
    "lr = LinearRegression()\n",
    "lr.fit(X_train,y_train)\n",
    "y_pred = lr.predict(X_val)\n",
    "y_pred"
   ]
  },
  {
   "cell_type": "code",
   "execution_count": 39,
   "metadata": {},
   "outputs": [
    {
     "data": {
      "text/plain": [
       "0.05932721507555547"
      ]
     },
     "execution_count": 39,
     "metadata": {},
     "output_type": "execute_result"
    }
   ],
   "source": [
    "from sklearn.metrics import mean_squared_log_error\n",
    "np.sqrt(mean_squared_log_error( y_val, y_pred ))"
   ]
  },
  {
   "cell_type": "code",
   "execution_count": 40,
   "metadata": {},
   "outputs": [],
   "source": [
    "from sklearn.preprocessing import StandardScaler\n",
    "from sklearn.decomposition import PCA \n",
    "scaler=StandardScaler()\n",
    "test_scaled = scaler.fit_transform(test_data)\n",
    "\n",
    "n_features = len(list(test_data.columns))\n",
    "\n",
    "pca = PCA(n_components=n_features)\n",
    "test_pca = pca.fit_transform(test_scaled)\n"
   ]
  },
  {
   "cell_type": "code",
   "execution_count": 41,
   "metadata": {},
   "outputs": [
    {
     "data": {
      "text/html": [
       "<div>\n",
       "<style scoped>\n",
       "    .dataframe tbody tr th:only-of-type {\n",
       "        vertical-align: middle;\n",
       "    }\n",
       "\n",
       "    .dataframe tbody tr th {\n",
       "        vertical-align: top;\n",
       "    }\n",
       "\n",
       "    .dataframe thead th {\n",
       "        text-align: right;\n",
       "    }\n",
       "</style>\n",
       "<table border=\"1\" class=\"dataframe\">\n",
       "  <thead>\n",
       "    <tr style=\"text-align: right;\">\n",
       "      <th></th>\n",
       "      <th>cc_cons</th>\n",
       "    </tr>\n",
       "  </thead>\n",
       "  <tbody>\n",
       "    <tr>\n",
       "      <td>0</td>\n",
       "      <td>15104.210362</td>\n",
       "    </tr>\n",
       "    <tr>\n",
       "      <td>1</td>\n",
       "      <td>9701.173950</td>\n",
       "    </tr>\n",
       "    <tr>\n",
       "      <td>2</td>\n",
       "      <td>16849.912960</td>\n",
       "    </tr>\n",
       "    <tr>\n",
       "      <td>3</td>\n",
       "      <td>9434.232188</td>\n",
       "    </tr>\n",
       "    <tr>\n",
       "      <td>4</td>\n",
       "      <td>7727.574602</td>\n",
       "    </tr>\n",
       "  </tbody>\n",
       "</table>\n",
       "</div>"
      ],
      "text/plain": [
       "        cc_cons\n",
       "0  15104.210362\n",
       "1   9701.173950\n",
       "2  16849.912960\n",
       "3   9434.232188\n",
       "4   7727.574602"
      ]
     },
     "execution_count": 41,
     "metadata": {},
     "output_type": "execute_result"
    }
   ],
   "source": [
    "test_pred = lr.predict(test_pca)\n",
    "pd_pred = pd.DataFrame(test_pred,columns=['cc_cons'])\n",
    "pd_pred.head()"
   ]
  },
  {
   "cell_type": "code",
   "execution_count": 42,
   "metadata": {},
   "outputs": [
    {
     "data": {
      "text/html": [
       "<div>\n",
       "<style scoped>\n",
       "    .dataframe tbody tr th:only-of-type {\n",
       "        vertical-align: middle;\n",
       "    }\n",
       "\n",
       "    .dataframe tbody tr th {\n",
       "        vertical-align: top;\n",
       "    }\n",
       "\n",
       "    .dataframe thead th {\n",
       "        text-align: right;\n",
       "    }\n",
       "</style>\n",
       "<table border=\"1\" class=\"dataframe\">\n",
       "  <thead>\n",
       "    <tr style=\"text-align: right;\">\n",
       "      <th></th>\n",
       "      <th>ID</th>\n",
       "      <th>cc_cons</th>\n",
       "    </tr>\n",
       "  </thead>\n",
       "  <tbody>\n",
       "    <tr>\n",
       "      <td>0</td>\n",
       "      <td>17591</td>\n",
       "      <td>15104.210362</td>\n",
       "    </tr>\n",
       "    <tr>\n",
       "      <td>1</td>\n",
       "      <td>13541</td>\n",
       "      <td>9701.173950</td>\n",
       "    </tr>\n",
       "    <tr>\n",
       "      <td>2</td>\n",
       "      <td>13431</td>\n",
       "      <td>16849.912960</td>\n",
       "    </tr>\n",
       "    <tr>\n",
       "      <td>3</td>\n",
       "      <td>8687</td>\n",
       "      <td>9434.232188</td>\n",
       "    </tr>\n",
       "    <tr>\n",
       "      <td>4</td>\n",
       "      <td>14727</td>\n",
       "      <td>7727.574602</td>\n",
       "    </tr>\n",
       "    <tr>\n",
       "      <td>5</td>\n",
       "      <td>14988</td>\n",
       "      <td>6789.376128</td>\n",
       "    </tr>\n",
       "    <tr>\n",
       "      <td>6</td>\n",
       "      <td>14859</td>\n",
       "      <td>21973.415218</td>\n",
       "    </tr>\n",
       "    <tr>\n",
       "      <td>7</td>\n",
       "      <td>16636</td>\n",
       "      <td>14139.814546</td>\n",
       "    </tr>\n",
       "    <tr>\n",
       "      <td>8</td>\n",
       "      <td>7625</td>\n",
       "      <td>27660.480305</td>\n",
       "    </tr>\n",
       "    <tr>\n",
       "      <td>9</td>\n",
       "      <td>16492</td>\n",
       "      <td>10987.020067</td>\n",
       "    </tr>\n",
       "  </tbody>\n",
       "</table>\n",
       "</div>"
      ],
      "text/plain": [
       "      ID       cc_cons\n",
       "0  17591  15104.210362\n",
       "1  13541   9701.173950\n",
       "2  13431  16849.912960\n",
       "3   8687   9434.232188\n",
       "4  14727   7727.574602\n",
       "5  14988   6789.376128\n",
       "6  14859  21973.415218\n",
       "7  16636  14139.814546\n",
       "8   7625  27660.480305\n",
       "9  16492  10987.020067"
      ]
     },
     "execution_count": 42,
     "metadata": {},
     "output_type": "execute_result"
    }
   ],
   "source": [
    "test_data_id = pd.read_csv('file/Test.csv')\n",
    "test = test_data_id['ID']\n",
    "\n",
    "df = pd.concat([test_data_id['ID'],pd_pred],axis=1)\n",
    "#df['cc_cons'] = df['cc_cons'].astype(str) \n",
    "\n",
    "df.head(10)"
   ]
  },
  {
   "cell_type": "code",
   "execution_count": 43,
   "metadata": {},
   "outputs": [],
   "source": [
    "df.to_csv('sample_submission.csv', index=False)"
   ]
  },
  {
   "cell_type": "markdown",
   "metadata": {},
   "source": [
    "# Model 2 "
   ]
  },
  {
   "cell_type": "code",
   "execution_count": 44,
   "metadata": {},
   "outputs": [
    {
     "name": "stderr",
     "output_type": "stream",
     "text": [
      "/home/sourabh/anaconda3/lib/python3.7/site-packages/sklearn/ensemble/forest.py:245: FutureWarning: The default value of n_estimators will change from 10 in version 0.20 to 100 in 0.22.\n",
      "  \"10 in version 0.20 to 100 in 0.22.\", FutureWarning)\n"
     ]
    },
    {
     "name": "stdout",
     "output_type": "stream",
     "text": [
      "0.7742474861608533\n"
     ]
    }
   ],
   "source": [
    "from sklearn.ensemble import RandomForestRegressor\n",
    "\n",
    "# Initialize RandomForrest model to variable rfc\n",
    "rfc = RandomForestRegressor(max_depth=2, random_state=0)\n",
    "\n",
    "# Fit the model\n",
    "rfc.fit(X_train,y_train)\n",
    "\n",
    "# Store the predicted values of test data\n",
    "y_pred_rf = rfc.predict(X_val)\n",
    "\n",
    "# accuracy\n",
    "accuracy = rfc.score(X_val,y_val)\n",
    "print(accuracy)\n"
   ]
  },
  {
   "cell_type": "code",
   "execution_count": 48,
   "metadata": {},
   "outputs": [
    {
     "data": {
      "text/plain": [
       "0.8296887351598368"
      ]
     },
     "execution_count": 48,
     "metadata": {},
     "output_type": "execute_result"
    }
   ],
   "source": [
    "np.sqrt(mean_squared_log_error( y_val, y_pred_rf ))"
   ]
  },
  {
   "cell_type": "code",
   "execution_count": 45,
   "metadata": {},
   "outputs": [
    {
     "data": {
      "text/html": [
       "<div>\n",
       "<style scoped>\n",
       "    .dataframe tbody tr th:only-of-type {\n",
       "        vertical-align: middle;\n",
       "    }\n",
       "\n",
       "    .dataframe tbody tr th {\n",
       "        vertical-align: top;\n",
       "    }\n",
       "\n",
       "    .dataframe thead th {\n",
       "        text-align: right;\n",
       "    }\n",
       "</style>\n",
       "<table border=\"1\" class=\"dataframe\">\n",
       "  <thead>\n",
       "    <tr style=\"text-align: right;\">\n",
       "      <th></th>\n",
       "      <th>cc_cons</th>\n",
       "    </tr>\n",
       "  </thead>\n",
       "  <tbody>\n",
       "    <tr>\n",
       "      <td>0</td>\n",
       "      <td>15104.210362</td>\n",
       "    </tr>\n",
       "    <tr>\n",
       "      <td>1</td>\n",
       "      <td>9701.173950</td>\n",
       "    </tr>\n",
       "    <tr>\n",
       "      <td>2</td>\n",
       "      <td>16849.912960</td>\n",
       "    </tr>\n",
       "    <tr>\n",
       "      <td>3</td>\n",
       "      <td>9434.232188</td>\n",
       "    </tr>\n",
       "    <tr>\n",
       "      <td>4</td>\n",
       "      <td>7727.574602</td>\n",
       "    </tr>\n",
       "  </tbody>\n",
       "</table>\n",
       "</div>"
      ],
      "text/plain": [
       "        cc_cons\n",
       "0  15104.210362\n",
       "1   9701.173950\n",
       "2  16849.912960\n",
       "3   9434.232188\n",
       "4   7727.574602"
      ]
     },
     "execution_count": 45,
     "metadata": {},
     "output_type": "execute_result"
    }
   ],
   "source": [
    "test_pred1 = rfc.predict(test_pca)\n",
    "pd_pred1 = pd.DataFrame(test_pred1,columns=['cc_cons'])\n",
    "pd_pred.head()"
   ]
  },
  {
   "cell_type": "code",
   "execution_count": 46,
   "metadata": {},
   "outputs": [],
   "source": [
    "df.to_csv('sample_submission.csv', index=False)"
   ]
  }
 ],
 "metadata": {
  "kernelspec": {
   "display_name": "Python 3",
   "language": "python",
   "name": "python3"
  },
  "language_info": {
   "codemirror_mode": {
    "name": "ipython",
    "version": 3
   },
   "file_extension": ".py",
   "mimetype": "text/x-python",
   "name": "python",
   "nbconvert_exporter": "python",
   "pygments_lexer": "ipython3",
   "version": "3.7.4"
  }
 },
 "nbformat": 4,
 "nbformat_minor": 2
}
